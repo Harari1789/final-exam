{
 "cells": [
  {
   "cell_type": "markdown",
   "metadata": {},
   "source": [
    "# Open a restaurant in Toronto"
   ]
  },
  {
   "cell_type": "markdown",
   "metadata": {},
   "source": [
    "## Business Problem"
   ]
  },
  {
   "cell_type": "markdown",
   "metadata": {},
   "source": [
    "Someone wants to open a french restaurant in Toronto. The probality to attract customers depends many on the location of the venue. In the case of restaurants, investors seek to look at a place, where there are already other trending restaurants. \n",
    "\n",
    "The investor wants to know which is the best area to open it. He needs an area, where there are other trending restaurants. The perfect neighbourhood for this aim would be a multicultural one, with many other restaurants from various horizons. \n",
    "\n",
    "Is there an area with more trending and multiculural restaurants than an other ? "
   ]
  },
  {
   "cell_type": "markdown",
   "metadata": {},
   "source": [
    "## Data section"
   ]
  },
  {
   "cell_type": "markdown",
   "metadata": {},
   "source": [
    "For the scope of this project, we need to investigate the neighbourhoods of Toronto. For this aim, we can use the Neighborhood Segmentation and Clustering. First we wil make API calls to retrieve data about the trending venues in the neighbourhoods of Toronto and then we select only the venue categories that belong to restaurant.\n",
    "\n",
    "Some visualizations could be used to understand which trending venues are the most common in Toronto. \n",
    "\n",
    "Finally we make some clusters to distinguish the neighbourhoods based on their trending restaurants. \n",
    "\n",
    "To conclude this analysis, we will be able to make some recomandations about the future location of the restaurant. \n"
   ]
  },
  {
   "cell_type": "code",
   "execution_count": null,
   "metadata": {},
   "outputs": [],
   "source": []
  }
 ],
 "metadata": {
  "kernelspec": {
   "display_name": "Python 3",
   "language": "python",
   "name": "python3"
  },
  "language_info": {
   "codemirror_mode": {
    "name": "ipython",
    "version": 3
   },
   "file_extension": ".py",
   "mimetype": "text/x-python",
   "name": "python",
   "nbconvert_exporter": "python",
   "pygments_lexer": "ipython3",
   "version": "3.6.8"
  }
 },
 "nbformat": 4,
 "nbformat_minor": 2
}
